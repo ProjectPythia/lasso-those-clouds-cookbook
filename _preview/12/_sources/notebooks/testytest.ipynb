{
 "cells": [
  {
   "cell_type": "markdown",
   "id": "935e6249-2800-470b-9409-de299684812e",
   "metadata": {},
   "source": [
    "ughhhhhhh"
   ]
  },
  {
   "cell_type": "code",
   "execution_count": null,
   "id": "a595459b-482b-42c6-ab8a-5ae234a73cb0",
   "metadata": {},
   "outputs": [],
   "source": []
  }
 ],
 "metadata": {
  "kernelspec": {
   "display_name": "Python [conda env:base] *",
   "language": "python",
   "name": "conda-base-py"
  },
  "language_info": {
   "codemirror_mode": {
    "name": "ipython",
    "version": 3
   },
   "file_extension": ".py",
   "mimetype": "text/x-python",
   "name": "python",
   "nbconvert_exporter": "python",
   "pygments_lexer": "ipython3",
   "version": "3.11.6"
  }
 },
 "nbformat": 4,
 "nbformat_minor": 5
}
